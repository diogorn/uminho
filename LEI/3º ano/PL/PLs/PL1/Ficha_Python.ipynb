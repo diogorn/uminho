{
  "cells": [
    {
      "cell_type": "markdown",
      "metadata": {
        "id": "JYcT3zL8pfjo"
      },
      "source": [
        "Ficha baseada no workshop do Professor José Carlos Ramalho.\n"
      ]
    },
    {
      "cell_type": "markdown",
      "metadata": {
        "id": "R_04OtjA3d2q"
      },
      "source": [
        "## Sobre Python\n",
        "\n",
        "Python é uma linguagem de programação de alto nível que pode ser usada em vários domínios (e.g.: aplicações web, processamento de língua natural, machine learning, etc.). É dinamicamente tipada e possui coletor de lixo. Suporta ainda vários paradigmas de programação (funcional, imperativo, orientado a objetos)."
      ]
    },
    {
      "cell_type": "markdown",
      "metadata": {
        "id": "HyU7HQ2w43nq"
      },
      "source": [
        "### Exemplo de programas simples em Python"
      ]
    },
    {
      "cell_type": "code",
      "execution_count": 2,
      "metadata": {
        "id": "5KIkS6Ok43QA"
      },
      "outputs": [],
      "source": [
        "def main() -> None:\n",
        "  print(\"Hello World!\")"
      ]
    },
    {
      "cell_type": "markdown",
      "metadata": {
        "id": "FWU8W90Y5A1y"
      },
      "source": [
        "Python usa indentação para definir blocos em vez de chavetas, como em C e Java."
      ]
    },
    {
      "cell_type": "code",
      "execution_count": null,
      "metadata": {
        "id": "81uC9tnM5KDX"
      },
      "outputs": [],
      "source": [
        "def soma_iterativa(lista: list[int]) -> int:\n",
        "  total = 0\n",
        "  for elem in lista:\n",
        "    total += elem\n",
        "  return total\n",
        "\n",
        "def soma_recursiva(lista: list[int]) -> int:\n",
        "  match lista:\n",
        "    case []: return 0\n",
        "    case [h, *t]: return h + soma_recursiva(t)"
      ]
    },
    {
      "cell_type": "markdown",
      "metadata": {
        "id": "Nets8hWWC-9e"
      },
      "source": [
        "Ao contrário de linguagens como C, nas quais a função `main` determina o fluxo de execução, em Python apenas o código *top-level* é executado, isto é, o código no nível superior do ficheiro, fora de qualquer função ou classe."
      ]
    },
    {
      "cell_type": "code",
      "execution_count": null,
      "metadata": {
        "colab": {
          "base_uri": "https://localhost:8080/"
        },
        "id": "P9u3ortHDVEI",
        "outputId": "f9c05a28-e38e-4230-a907-92bdc9908dd4"
      },
      "outputs": [
        {
          "name": "stdout",
          "output_type": "stream",
          "text": [
            "esta frase é impressa.\n",
            "esta frase não é impressa.\n"
          ]
        }
      ],
      "source": [
        "def teste():\n",
        "  print(\"esta frase não é impressa.\")\n",
        "\n",
        "print(\"esta frase é impressa.\")\n",
        "teste()"
      ]
    },
    {
      "cell_type": "markdown",
      "metadata": {
        "id": "oULL-9-wpfju"
      },
      "source": [
        "## Tipos de dados primitivos"
      ]
    },
    {
      "cell_type": "markdown",
      "metadata": {
        "id": "3YlpVwB0A3ta"
      },
      "source": [
        "### Inteiros"
      ]
    },
    {
      "cell_type": "code",
      "execution_count": null,
      "metadata": {
        "id": "uEsKsnzMpfjv"
      },
      "outputs": [],
      "source": [
        "x = 5\n",
        "y = 3\n",
        "print(x + y)"
      ]
    },
    {
      "cell_type": "markdown",
      "metadata": {
        "id": "wiCuE0KSA5nU"
      },
      "source": [
        "### Booleanos"
      ]
    },
    {
      "cell_type": "code",
      "execution_count": null,
      "metadata": {
        "id": "pw7OI8v-pfjv"
      },
      "outputs": [],
      "source": [
        "a = 10 < 5\n",
        "print(a)\n",
        "print(a or True)\n",
        "print(1 and (True or []) and not False)"
      ]
    },
    {
      "cell_type": "markdown",
      "metadata": {
        "id": "unR-iIN1BAcD"
      },
      "source": [
        "### Reais"
      ]
    },
    {
      "cell_type": "code",
      "execution_count": null,
      "metadata": {
        "id": "MTFtoYWapfjw"
      },
      "outputs": [],
      "source": [
        "media = (13+18+12)/3\n",
        "print(media)\n",
        "print(type(media))\n",
        "print(round(media, 2))"
      ]
    },
    {
      "cell_type": "markdown",
      "metadata": {
        "id": "fus-3G5wBEGK"
      },
      "source": [
        "### Strings"
      ]
    },
    {
      "cell_type": "code",
      "execution_count": null,
      "metadata": {
        "id": "BFKGydRipfjw"
      },
      "outputs": [],
      "source": [
        "frase = \"Amor é fogo que arde sem se ver\"\n",
        "\n",
        "# Acesso a um caracter\n",
        "print(frase[12])\n",
        "# Acesso a uma fatia (excluíndo o último índice)\n",
        "print(frase[5:12])\n",
        "# A contar do fim: índices negativos\n",
        "print(frase[-3:])\n",
        "# Cada N caracteres:\n",
        "print(frase[::3])\n",
        "# Inverter string:\n",
        "print(frase[3::-1])"
      ]
    },
    {
      "cell_type": "code",
      "execution_count": null,
      "metadata": {
        "id": "Uj122wnGpfjw"
      },
      "outputs": [],
      "source": [
        "frase = \"Amor é fogo que arde sem se ver\"\n",
        "\n",
        "# Comprimento e concatenação de strings\n",
        "print(\"A frase tem \" + str(len(frase)) + \" carateres.\")\n",
        "\n",
        "print(\"Vamos iterar sobre a string:\")\n",
        "for c in frase:\n",
        "    print(c)"
      ]
    },
    {
      "cell_type": "code",
      "execution_count": null,
      "metadata": {
        "colab": {
          "base_uri": "https://localhost:8080/"
        },
        "id": "dzqVgh2Npfjw",
        "outputId": "d0a1aabb-fd44-4877-b4b6-2e5209491a92"
      },
      "outputs": [
        {
          "name": "stdout",
          "output_type": "stream",
          "text": [
            "['Amor', 'é', 'fogo', 'que', 'arde', 'sem', 'se', 'ver']\n"
          ]
        }
      ],
      "source": [
        "# Partir uma string em substrings usando um ou mais caracteres como separador\n",
        "frase = \"Amor é fogo que arde sem se ver\"\n",
        "\n",
        "palavras = frase.split(\" \")\n",
        "print(palavras)\n",
        "# O resultado é uma lista, vamos ver à frente..."
      ]
    },
    {
      "cell_type": "code",
      "execution_count": null,
      "metadata": {
        "colab": {
          "base_uri": "https://localhost:8080/"
        },
        "id": "yRapa-EF-9mV",
        "outputId": "13b64750-4352-4c7c-d0d6-7d9c1eebf5f2"
      },
      "outputs": [
        {
          "name": "stdout",
          "output_type": "stream",
          "text": [
            "<class 'str'>\n"
          ]
        }
      ],
      "source": [
        "# ATENÇÃO: Python não tem nenhum tipo 'char'\n",
        "frase = \"Amor é fogo que arde sem se ver\"\n",
        "print(type(frase[0])) # Continua a ser uma string"
      ]
    },
    {
      "cell_type": "markdown",
      "metadata": {
        "id": "QFXvHUFpAppy"
      },
      "source": [
        "## Condicionais"
      ]
    },
    {
      "cell_type": "code",
      "execution_count": null,
      "metadata": {
        "id": "cdc4_0srArsL"
      },
      "outputs": [],
      "source": [
        "if 10 > 5:\n",
        "  print(\"Está tudo bem!\")\n",
        "else: # o bloco 'else' é opcional\n",
        "  print(\"Passa-se algo de estranho...\")"
      ]
    },
    {
      "cell_type": "code",
      "execution_count": null,
      "metadata": {
        "colab": {
          "base_uri": "https://localhost:8080/"
        },
        "id": "uOXXcwODA1Q-",
        "outputId": "d5fde1b5-5b40-4de3-c57e-680698bd63b4"
      },
      "outputs": [
        {
          "name": "stdout",
          "output_type": "stream",
          "text": [
            "Já pode beber\n"
          ]
        }
      ],
      "source": [
        "idade = 22\n",
        "if idade < 18:\n",
        "  print(\"Ainda não pode beber\")\n",
        "elif idade < 65:\n",
        "  print(\"Já pode beber\")\n",
        "else:\n",
        "  print(\"Se calhar não devia beber\")"
      ]
    },
    {
      "cell_type": "code",
      "execution_count": null,
      "metadata": {
        "colab": {
          "base_uri": "https://localhost:8080/"
        },
        "id": "LCTtKwj3BGq-",
        "outputId": "101f09fb-0bd4-4aa1-dee8-951389d845bb"
      },
      "outputs": [
        {
          "name": "stdout",
          "output_type": "stream",
          "text": [
            "Não conheço esta lista.\n"
          ]
        }
      ],
      "source": [
        "lista = [1,2,3]\n",
        "match lista:\n",
        "  case [1,2,3]: print(\"A lista é [1,2,3].\")\n",
        "  case [1,*t]: print(\"A lista começa por 1.\")\n",
        "  case [_,_] | [_,_,_]: print(\"A lista tem 2 ou 3 elementos.\")\n",
        "  case _: print(\"Não conheço esta lista.\")"
      ]
    },
    {
      "cell_type": "markdown",
      "metadata": {
        "id": "FAjCG3_H_0Mc"
      },
      "source": [
        "## Ciclos"
      ]
    },
    {
      "cell_type": "markdown",
      "metadata": {
        "id": "Pu8sN8JCBoeV"
      },
      "source": [
        "### Ciclo for"
      ]
    },
    {
      "cell_type": "code",
      "execution_count": null,
      "metadata": {
        "id": "hUETJyvU_1di"
      },
      "outputs": [],
      "source": [
        "for i in [1,2,3,4,5]:\n",
        "  print(i)\n",
        "\n",
        "print(\"-----\")\n",
        "\n",
        "# ou\n",
        "for i in range(1,6):\n",
        "  print(i)"
      ]
    },
    {
      "cell_type": "markdown",
      "metadata": {
        "id": "5vrW0z73Bq6A"
      },
      "source": [
        "### Ciclo while"
      ]
    },
    {
      "cell_type": "code",
      "execution_count": null,
      "metadata": {
        "id": "FkkNUn0aAG-4"
      },
      "outputs": [],
      "source": [
        "i = 5\n",
        "while i > 0:\n",
        "  print(i)\n",
        "  i -= 1 # Python não possui sintaxe ++/--"
      ]
    },
    {
      "cell_type": "markdown",
      "metadata": {
        "id": "M1DyHtluNjic"
      },
      "source": [
        "## Ler input do terminal"
      ]
    },
    {
      "cell_type": "code",
      "execution_count": null,
      "metadata": {
        "colab": {
          "base_uri": "https://localhost:8080/"
        },
        "id": "bOw5LdsONpvX",
        "outputId": "4caaf3f3-9b42-486c-f53f-fb254d241a37"
      },
      "outputs": [
        {
          "name": "stdout",
          "output_type": "stream",
          "text": [
            "Quantos anos tens?20\n",
            "<class 'str'>\n",
            "20\n"
          ]
        }
      ],
      "source": [
        "idade = input(\"Quantos anos tens?\") # devolve sempre uma string\n",
        "print(type(idade))\n",
        "idade = int(idade) # convertemos a string para um inteiro\n",
        "print(idade)"
      ]
    },
    {
      "cell_type": "markdown",
      "metadata": {
        "id": "LpoFdS4lpfjx"
      },
      "source": [
        "## Definição de funções\n",
        "\n",
        "Sintaxe:\n",
        "\n",
        "```py\n",
        "def nome(arg1, arg2, ...):\n",
        "    instruções\n",
        "    [return resultado]\n",
        "```\n",
        "\n",
        "Com anotações de tipo:\n",
        "\n",
        "```py\n",
        "def nome(arg1: tipo1, arg2: tipo2, ...) -> tipo_resultado:\n",
        "    instruções\n",
        "    [return resultado]\n",
        "```"
      ]
    },
    {
      "cell_type": "code",
      "execution_count": null,
      "metadata": {
        "id": "FwlcsG1spfjx"
      },
      "outputs": [],
      "source": [
        "def add(a,b):\n",
        "    return a+b\n",
        "\n",
        "print(add(7,12))\n",
        "print(add(add(2,3),4))"
      ]
    },
    {
      "cell_type": "code",
      "execution_count": null,
      "metadata": {
        "id": "uKC2flOrAc79"
      },
      "outputs": [],
      "source": [
        "def fact(n: int) -> int:\n",
        "  if n == 0: return 1\n",
        "  return n * fact(n - 1)\n",
        "\n",
        "print(fact(5))"
      ]
    },
    {
      "cell_type": "markdown",
      "metadata": {
        "id": "n5-_gOUcpfjx"
      },
      "source": [
        "### Exercício simples\n",
        "\n",
        "Especifique uma função, primeiro recursiva e depois iterativa, para calcular o resultado de elevar uma base a um determinado expoente.\n",
        "Depois escreva um programa que leia uma base B e dois expoentes Einf e Esup e imprima todas as potências de B entre Einf e Esup, usando uma das funções anteriores."
      ]
    },
    {
      "cell_type": "code",
      "execution_count": null,
      "metadata": {
        "id": "n_I8HFuwpfjx"
      },
      "outputs": [
        {
          "ename": "",
          "evalue": "",
          "output_type": "error",
          "traceback": [
            "\u001b[1;31mRunning cells with 'Python 3.12.6' requires the ipykernel package.\n",
            "\u001b[1;31mRun the following command to install 'ipykernel' into the Python environment. \n",
            "\u001b[1;31mCommand: '/usr/local/bin/python3 -m pip install ipykernel -U --user --force-reinstall'"
          ]
        }
      ],
      "source": [
        "# calcular uma potencia\n",
        "def pot_recursiva(b: float, e: int) -> float:\n",
        "    if e == 0:\n",
        "        return 1\n",
        "    elif e == 1:\n",
        "        return b\n",
        "    else:\n",
        "        return b * pot_recursiva(b, e - 1)\n",
        "\n",
        "\n",
        "\n",
        "def pot_iterativa(b, e):\n",
        "    r = 1\n",
        "    for i in range(0,e):\n",
        "        r *= b\n",
        "    return r\n",
        "\n",
        "print(pot_recursiva(2, 3))\n",
        "print(pot_iterativa(2, 3))"
      ]
    },
    {
      "cell_type": "markdown",
      "metadata": {
        "id": "kGWEDkMjL80p"
      },
      "source": [
        "## Tipos de dados estruturados:"
      ]
    },
    {
      "cell_type": "markdown",
      "metadata": {
        "id": "3cUF2puhpfjx"
      },
      "source": [
        "### TE1: Listas\n",
        "\n",
        "Uma lista é uma sequência finita e ordenada de elementos. Um elemento pode ser qualquer coisa."
      ]
    },
    {
      "cell_type": "markdown",
      "metadata": {
        "id": "N1MI0LE2pfjx"
      },
      "source": [
        "#### Construtores:"
      ]
    },
    {
      "cell_type": "code",
      "execution_count": null,
      "metadata": {
        "colab": {
          "base_uri": "https://localhost:8080/"
        },
        "id": "4Y9CQo26pfjy",
        "outputId": "0b3766ca-4715-43fe-a579-cebc0694429d"
      },
      "outputs": [
        {
          "name": "stdout",
          "output_type": "stream",
          "text": [
            "<class 'range'>\n",
            "[4, 8, 12, 16]\n"
          ]
        }
      ],
      "source": [
        "# lista vazia\n",
        "l = [] # ou: l = list()\n",
        "# lista homogénea\n",
        "l2 = [1,2,3,4,5]\n",
        "# lista heterogénea\n",
        "l3 = [11, \"onze\", 12, \"doze\"]\n",
        "# lista a partir de *range*\n",
        "l4 = list(range(1,10))\n",
        "# range != lista\n",
        "print(type(range(1,10)))\n",
        "\n",
        "# listas por compreensão\n",
        "l5 = [x * 2 for x in range(1,10) if x % 2 == 0]\n",
        "print(l5)\n"
      ]
    },
    {
      "cell_type": "markdown",
      "metadata": {
        "id": "ozB9pFRMpfjy"
      },
      "source": [
        "#### Comprimento"
      ]
    },
    {
      "cell_type": "code",
      "execution_count": null,
      "metadata": {
        "id": "YWy9Cy6qpfjy"
      },
      "outputs": [],
      "source": [
        "vogais = ['a', 'e', 'i', 'o', 'u']\n",
        "print(len(vogais))"
      ]
    },
    {
      "cell_type": "markdown",
      "metadata": {
        "id": "HEfTWjWIpfjz"
      },
      "source": [
        "#### _in_ e _not in_"
      ]
    },
    {
      "cell_type": "code",
      "execution_count": null,
      "metadata": {
        "colab": {
          "base_uri": "https://localhost:8080/",
          "height": 251
        },
        "id": "L0_cL5Lspfjz",
        "outputId": "84dac64a-a85e-4ffd-fc9f-e644a62acab1"
      },
      "outputs": [
        {
          "ename": "NameError",
          "evalue": "name 'vogais' is not defined",
          "output_type": "error",
          "traceback": [
            "\u001b[0;31m---------------------------------------------------------------------------\u001b[0m",
            "\u001b[0;31mNameError\u001b[0m                                 Traceback (most recent call last)",
            "\u001b[0;32m<ipython-input-12-117a4f49e5cb>\u001b[0m in \u001b[0;36m<cell line: 4>\u001b[0;34m()\u001b[0m\n\u001b[1;32m      2\u001b[0m \u001b[0mtexto\u001b[0m \u001b[0;34m=\u001b[0m \u001b[0mtexto\u001b[0m\u001b[0;34m.\u001b[0m\u001b[0mlower\u001b[0m\u001b[0;34m(\u001b[0m\u001b[0;34m)\u001b[0m\u001b[0;34m\u001b[0m\u001b[0;34m\u001b[0m\u001b[0m\n\u001b[1;32m      3\u001b[0m \u001b[0mvogaisPresentes\u001b[0m \u001b[0;34m=\u001b[0m \u001b[0;34m[\u001b[0m\u001b[0;34m]\u001b[0m\u001b[0;34m\u001b[0m\u001b[0;34m\u001b[0m\u001b[0m\n\u001b[0;32m----> 4\u001b[0;31m \u001b[0;32mfor\u001b[0m \u001b[0mv\u001b[0m \u001b[0;32min\u001b[0m \u001b[0mvogais\u001b[0m\u001b[0;34m:\u001b[0m\u001b[0;34m\u001b[0m\u001b[0;34m\u001b[0m\u001b[0m\n\u001b[0m\u001b[1;32m      5\u001b[0m     \u001b[0;32mif\u001b[0m \u001b[0mv\u001b[0m \u001b[0;32mnot\u001b[0m \u001b[0;32min\u001b[0m \u001b[0mtexto\u001b[0m\u001b[0;34m:\u001b[0m\u001b[0;34m\u001b[0m\u001b[0;34m\u001b[0m\u001b[0m\n\u001b[1;32m      6\u001b[0m         \u001b[0mvogaisPresentes\u001b[0m\u001b[0;34m.\u001b[0m\u001b[0mappend\u001b[0m\u001b[0;34m(\u001b[0m\u001b[0;32mFalse\u001b[0m\u001b[0;34m)\u001b[0m\u001b[0;34m\u001b[0m\u001b[0;34m\u001b[0m\u001b[0m\n",
            "\u001b[0;31mNameError\u001b[0m: name 'vogais' is not defined"
          ]
        }
      ],
      "source": [
        "texto = \"LGBTQIA+\"\n",
        "texto = texto.lower()\n",
        "vogaisPresentes = []\n",
        "for v in vogais:\n",
        "    if v not in texto:\n",
        "        vogaisPresentes.append(False)\n",
        "    else:\n",
        "        vogaisPresentes.append(True)\n",
        "print(vogaisPresentes)"
      ]
    },
    {
      "cell_type": "markdown",
      "metadata": {
        "id": "SnhpsjQNpfjz"
      },
      "source": [
        "#### Acrescentar elementos a uma lista"
      ]
    },
    {
      "cell_type": "code",
      "execution_count": null,
      "metadata": {
        "id": "aKaKI7topfj0"
      },
      "outputs": [],
      "source": [
        "pares100 = []\n",
        "i = 0\n",
        "while i <= 100:\n",
        "  if i % 2 == 0:\n",
        "    pares100.append(i)\n",
        "  i += 1\n",
        "print(pares100)\n",
        "\n",
        "[x for x in range(0,101) if x % 2 == 0]"
      ]
    },
    {
      "cell_type": "markdown",
      "metadata": {
        "id": "07hhFOjFpfj0"
      },
      "source": [
        "#### Apagar o conteúdo duma lista"
      ]
    },
    {
      "cell_type": "code",
      "execution_count": null,
      "metadata": {
        "id": "LqS3Wq89pfj0"
      },
      "outputs": [],
      "source": [
        "print(pares100.pop(1))\n",
        "print(pares100)\n",
        "\n",
        "del pares100[5]\n",
        "print(pares100)\n",
        "\n",
        "pares100.clear()\n",
        "print(pares100)"
      ]
    },
    {
      "cell_type": "markdown",
      "metadata": {
        "id": "U1dSeur5pfj0"
      },
      "source": [
        "#### Copiar uma lista"
      ]
    },
    {
      "cell_type": "code",
      "execution_count": null,
      "metadata": {
        "colab": {
          "base_uri": "https://localhost:8080/"
        },
        "id": "TILGpcwApfj0",
        "outputId": "3c26b9d6-97cc-4638-d7e2-6180a6265b53"
      },
      "outputs": [
        {
          "name": "stdout",
          "output_type": "stream",
          "text": [
            "['vermelho', 'verde', 'azul', 'amarelo']\n",
            "1\n"
          ]
        }
      ],
      "source": [
        "cores = [\"vermelho\", \"verde\", \"azul\"]\n",
        "cores2 = cores.copy() + [\"amarelo\"]\n",
        "print(cores2)\n",
        "print(cores2.index(\"verde\"))"
      ]
    },
    {
      "cell_type": "code",
      "execution_count": null,
      "metadata": {
        "colab": {
          "base_uri": "https://localhost:8080/"
        },
        "id": "JuUYG8uIpfj0",
        "outputId": "d15c4421-e4db-4e54-984e-acf305ea6d63"
      },
      "outputs": [
        {
          "name": "stdout",
          "output_type": "stream",
          "text": [
            "0: vermelho\n",
            "1: verde\n",
            "2: azul\n",
            "3: amarelo\n"
          ]
        }
      ],
      "source": [
        "for i, cor in enumerate(cores2):\n",
        "    print(str(i) + \": \" + cor)"
      ]
    },
    {
      "cell_type": "markdown",
      "metadata": {
        "id": "pxfdSJTUpfj0"
      },
      "source": [
        "#### Inserir um elemento numa determinada posição"
      ]
    },
    {
      "cell_type": "code",
      "execution_count": null,
      "metadata": {
        "id": "U16byQ7rpfj0"
      },
      "outputs": [],
      "source": [
        "cores2.insert(1, \"roxo\")\n",
        "print(cores2)"
      ]
    },
    {
      "cell_type": "markdown",
      "metadata": {
        "id": "N96rbo-Spfj1"
      },
      "source": [
        "#### Remover a primeira ocorrência de um elemento"
      ]
    },
    {
      "cell_type": "code",
      "execution_count": null,
      "metadata": {
        "id": "oquS-D0cpfj1"
      },
      "outputs": [],
      "source": [
        "cores2 = cores2 + [\"verde\", \"verde\"]\n",
        "print(cores2)\n",
        "cores2.remove(\"verde\")\n",
        "print(cores2)"
      ]
    },
    {
      "cell_type": "markdown",
      "metadata": {
        "id": "w96jHO5Hpfj1"
      },
      "source": [
        "#### Ordem e ordenação"
      ]
    },
    {
      "cell_type": "code",
      "execution_count": null,
      "metadata": {
        "id": "Vvcc-kv2pfj1"
      },
      "outputs": [],
      "source": [
        "lista = [x for x in range(1,21)]\n",
        "print(lista)\n",
        "lista.reverse()\n",
        "print(lista)\n",
        "lista.sort()\n",
        "print(lista)"
      ]
    },
    {
      "cell_type": "markdown",
      "metadata": {
        "id": "c42ublQOGEbq"
      },
      "source": [
        "#### Exercício: maior elemento de uma lista"
      ]
    },
    {
      "cell_type": "code",
      "execution_count": 1,
      "metadata": {
        "id": "mzKlwh6oGROO"
      },
      "outputs": [
        {
          "name": "stdout",
          "output_type": "stream",
          "text": [
            "5\n"
          ]
        }
      ],
      "source": [
        "def maior(lista):\n",
        "    # max(lista)\n",
        "    maior = lista[0]\n",
        "    for elem in lista:\n",
        "        if elem > maior:\n",
        "            maior = elem\n",
        "    return maior\n",
        "\n",
        "\n",
        "print(maior([4,2,5,1,3]))"
      ]
    },
    {
      "cell_type": "markdown",
      "metadata": {
        "id": "xrODVJ71pfj2"
      },
      "source": [
        "### TE2: Tuplos\n",
        "\n",
        "Tuplos podem conter elementos de qualquer tipo, mas o seu comprimento não pode ser alterado."
      ]
    },
    {
      "cell_type": "markdown",
      "metadata": {
        "id": "KbNf6Db5pfj2"
      },
      "source": [
        "#### Construtores: (), tuple()"
      ]
    },
    {
      "cell_type": "code",
      "execution_count": null,
      "metadata": {
        "id": "HqG7nCZNpfj2"
      },
      "outputs": [],
      "source": [
        "estudante1 = (\"Jane Doe\", \"A00000\", \"ENGINF\", 21, False, True, True, False)\n",
        "coordenadas = tuple([39, 9])"
      ]
    },
    {
      "cell_type": "markdown",
      "metadata": {
        "id": "TSDccOh0pfj2"
      },
      "source": [
        "#### Acesso"
      ]
    },
    {
      "cell_type": "code",
      "execution_count": null,
      "metadata": {
        "id": "uCG9Pbd_pfj3"
      },
      "outputs": [],
      "source": [
        "curso1 = estudante1[2]\n",
        "print(curso1)"
      ]
    },
    {
      "cell_type": "markdown",
      "metadata": {
        "id": "fgfBp_Gzpfj3"
      },
      "source": [
        "#### Acesso com desmembramento (unfold/unpack)"
      ]
    },
    {
      "cell_type": "code",
      "execution_count": null,
      "metadata": {
        "colab": {
          "base_uri": "https://localhost:8080/"
        },
        "id": "Jbz4eK9hpfj3",
        "outputId": "d5bc7818-31b2-4420-bad8-56ea5a229272"
      },
      "outputs": [
        {
          "name": "stdout",
          "output_type": "stream",
          "text": [
            "A00000: Jane Doe\n",
            "[False, True, True, False]\n"
          ]
        }
      ],
      "source": [
        "nome, id, curso, idade, *presencas = estudante1\n",
        "print(id + \": \" + nome)\n",
        "print(presencas)"
      ]
    },
    {
      "cell_type": "markdown",
      "metadata": {
        "id": "hbyiAdGopfj3"
      },
      "source": [
        "#### Testar se um valor está no tuplo"
      ]
    },
    {
      "cell_type": "code",
      "execution_count": null,
      "metadata": {
        "colab": {
          "base_uri": "https://localhost:8080/"
        },
        "id": "iQIwhgjtpfj3",
        "outputId": "636ab709-004b-4a7c-c0ec-6069fe910812"
      },
      "outputs": [
        {
          "name": "stdout",
          "output_type": "stream",
          "text": [
            "Faltou pelo menos uma vez!\n"
          ]
        }
      ],
      "source": [
        "if False in estudante1:\n",
        "    print(\"Faltou pelo menos uma vez!\")"
      ]
    },
    {
      "cell_type": "markdown",
      "metadata": {
        "id": "JpiSU5wcIGoP"
      },
      "source": [
        "Para remover um elemento de um tuplo, precisamos de criar um tuplo novo."
      ]
    },
    {
      "cell_type": "markdown",
      "metadata": {
        "id": "s5Y6kLehpfj5"
      },
      "source": [
        "#### Exercício: unzip\n",
        "\n",
        "A partir de uma lista de tuplos, define duas listas."
      ]
    },
    {
      "cell_type": "code",
      "execution_count": 2,
      "metadata": {
        "id": "uuDsGXebpfj5"
      },
      "outputs": [
        {
          "name": "stdout",
          "output_type": "stream",
          "text": [
            "[1, 2, 3, 4]\n",
            "['banana', 'maçã', 'melancia', 'cereja']\n"
          ]
        }
      ],
      "source": [
        "def unzip(l):\n",
        "  l1 = []\n",
        "  l2 = []\n",
        "  for e1, e2 in l:\n",
        "    l1.append(e1)\n",
        "    l2.append(e2)\n",
        "  return l1, l2\n",
        "\n",
        "\n",
        "lista = [(1, \"banana\"), (2, \"maçã\"), (3, \"melancia\"), (4, \"cereja\")]\n",
        "\n",
        "(unzipped1, unzipped2) = unzip(lista)\n",
        "print(unzipped1)\n",
        "print(unzipped2)"
      ]
    },
    {
      "cell_type": "markdown",
      "metadata": {
        "id": "JyP-73aZpfj5"
      },
      "source": [
        "### TE3: Dicionários\n",
        "\n",
        "#### Construtores: {}, dict()"
      ]
    },
    {
      "cell_type": "code",
      "execution_count": null,
      "metadata": {
        "id": "g-DdhKx9pfj5"
      },
      "outputs": [],
      "source": [
        "d1 = dict()\n",
        "d1[\"Python\"] = True\n",
        "print(d1)\n",
        "\n",
        "d2 = {\"Python\" : 6, \"Haskell\" : 15, \"Web\" : { \"HTML\" : 20, \"CSS\": 13}}\n",
        "print(d2)\n",
        "\n",
        "# a partir de uma lista de tuplos\n",
        "d3 = dict([(1, \"banana\"), (2, \"maçã\"), (3, \"melancia\"), (4, \"cereja\")])\n",
        "print(d3)"
      ]
    },
    {
      "cell_type": "markdown",
      "metadata": {
        "id": "TDlYO-sGpfj5"
      },
      "source": [
        "#### Acesso"
      ]
    },
    {
      "cell_type": "code",
      "execution_count": null,
      "metadata": {
        "id": "Z-fhPKOVpfj5"
      },
      "outputs": [],
      "source": [
        "compras = {'maçã': 5, 'laranja':6, 'banana': 7}\n",
        "print(compras['laranja'])\n",
        "print(compras.get('melancia', \"Não existe!\"))"
      ]
    },
    {
      "cell_type": "markdown",
      "metadata": {
        "id": "MX_YAXr0pfj6"
      },
      "source": [
        "#### Extrair chaves"
      ]
    },
    {
      "cell_type": "code",
      "execution_count": null,
      "metadata": {
        "colab": {
          "base_uri": "https://localhost:8080/"
        },
        "id": "RQgCy2cnpfj6",
        "outputId": "c6805fab-c36b-4514-c327-0fbf71d0f797"
      },
      "outputs": [
        {
          "name": "stdout",
          "output_type": "stream",
          "text": [
            "dict_keys(['LCC', 'ENGBIOM', 'LEI', 'ENGFIS'])\n"
          ]
        }
      ],
      "source": [
        "distrib = {\"LCC\": 23, \"ENGBIOM\": 35, \"LEI\": 32, \"ENGFIS\": 17}\n",
        "chaves = distrib.keys()\n",
        "print(chaves)"
      ]
    },
    {
      "cell_type": "markdown",
      "metadata": {
        "id": "dxwP_Ugipfj6"
      },
      "source": [
        "#### Extrair valores"
      ]
    },
    {
      "cell_type": "code",
      "execution_count": null,
      "metadata": {
        "colab": {
          "base_uri": "https://localhost:8080/"
        },
        "id": "j1piqZNvpfj6",
        "outputId": "ce86c424-2e27-461e-fb6c-3ded0861691e"
      },
      "outputs": [
        {
          "name": "stdout",
          "output_type": "stream",
          "text": [
            "dict_values([23, 35, 32, 17])\n"
          ]
        }
      ],
      "source": [
        "distrib = {\"LCC\": 23, \"ENGBIOM\": 35, \"LEI\": 32, \"ENGFIS\": 17}\n",
        "valores = distrib.values()\n",
        "print(valores)"
      ]
    },
    {
      "cell_type": "markdown",
      "metadata": {
        "id": "cZcUFX7Mpfj6"
      },
      "source": [
        "#### Concatenar dicionários"
      ]
    },
    {
      "cell_type": "code",
      "execution_count": null,
      "metadata": {
        "colab": {
          "base_uri": "https://localhost:8080/"
        },
        "id": "0v8AdK26pfj7",
        "outputId": "8c82a05b-acbe-4eac-c39b-82975c396700"
      },
      "outputs": [
        {
          "name": "stdout",
          "output_type": "stream",
          "text": [
            "{'cenouras': 6, 'batatas': 20, 'cebolas': 12, 'tangerina': 30, 'pêras': 8, 'bananas': 6, 'romãs': 2, 'fiambre': 10, 'queijo': 16, 'chouriço': 1}\n"
          ]
        }
      ],
      "source": [
        "legumes = {\"cenouras\": 6, \"batatas\":20, \"cebolas\": 12}\n",
        "frutas = {\"tangerina\": 30, \"pêras\":8, \"bananas\": 6, \"romãs\": 2}\n",
        "charcutaria = {\"fiambre\": 10, \"queijo\": 16, \"chouriço\": 1}\n",
        "listaCompras = legumes.copy()\n",
        "listaCompras.update(frutas)\n",
        "listaCompras.update(charcutaria)\n",
        "print(listaCompras)"
      ]
    },
    {
      "cell_type": "code",
      "execution_count": null,
      "metadata": {
        "colab": {
          "base_uri": "https://localhost:8080/"
        },
        "id": "Uj6D5ssGpfj7",
        "outputId": "2b9e8114-51cf-4f62-93e5-4dca31b60c62"
      },
      "outputs": [
        {
          "name": "stdout",
          "output_type": "stream",
          "text": [
            "{'cenouras': 6, 'batatas': 20, 'cebolas': 12, 'tangerina': 30, 'pêras': 8, 'bananas': 6, 'romãs': 2, 'fiambre': 10, 'queijo': 16, 'chouriço': 1}\n"
          ]
        }
      ],
      "source": [
        "legumes = {\"cenouras\": 6, \"batatas\":20, \"cebolas\": 12}\n",
        "frutas = {\"tangerina\": 30, \"pêras\":8, \"bananas\": 6, \"romãs\": 2}\n",
        "charcutaria = {\"fiambre\": 10, \"queijo\": 16, \"chouriço\": 1}\n",
        "listaCompras = {}\n",
        "for chave in legumes.keys():\n",
        "    listaCompras[chave] = legumes[chave]\n",
        "for chave in frutas.keys():\n",
        "    listaCompras[chave] = frutas[chave]\n",
        "for chave in charcutaria:\n",
        "    listaCompras[chave] = charcutaria[chave]\n",
        "print(listaCompras)"
      ]
    },
    {
      "cell_type": "markdown",
      "metadata": {
        "id": "4nmM1G2Fpfj7"
      },
      "source": [
        "#### Verificar se uma chave está no dicionário"
      ]
    },
    {
      "cell_type": "code",
      "execution_count": null,
      "metadata": {
        "id": "Dtx8PcvEpfj7"
      },
      "outputs": [],
      "source": [
        "def pertenceChave(c, d):\n",
        "    return (c in d)"
      ]
    },
    {
      "cell_type": "code",
      "execution_count": null,
      "metadata": {
        "id": "i5f0Blpjpfj7"
      },
      "outputs": [],
      "source": [
        "print(pertenceChave(\"bananas\", listaCompras))\n",
        "print(pertenceChave(\"beterrabas\", listaCompras))"
      ]
    },
    {
      "cell_type": "markdown",
      "metadata": {
        "id": "LXsioKqepfj8"
      },
      "source": [
        "#### Exercício:\n",
        "\n",
        "Escreve um programa em Python que leia um número inteiro positivo e crie um dicionário com chaves de 1 até esse número, em que o valor associado a cada chave é o quadrado dessa chave."
      ]
    },
    {
      "cell_type": "code",
      "execution_count": 4,
      "metadata": {
        "id": "LZyYn2UPpfj8"
      },
      "outputs": [
        {
          "name": "stdout",
          "output_type": "stream",
          "text": [
            "{1: 1, 2: 4, 3: 9, 4: 16, 5: 25}\n"
          ]
        }
      ],
      "source": [
        "def dicionario(n):\n",
        "    d = {}\n",
        "    for i in range(1,n+1):\n",
        "        d[i] = i*i\n",
        "    return d\n",
        "\n",
        "print(dicionario(5))"
      ]
    },
    {
      "cell_type": "markdown",
      "metadata": {
        "id": "wCFkeKNtMAhA"
      },
      "source": [
        "## Conceitos de Programação Funcional\n",
        "\n",
        "Em certas situações, poderá ser preferível ou até mais eficiente usar funções de ordem superior em vez de algoritmos iterativos ou compreensão de listas."
      ]
    },
    {
      "cell_type": "markdown",
      "metadata": {
        "id": "zRLkFty6E4PH"
      },
      "source": [
        "### Map"
      ]
    },
    {
      "cell_type": "code",
      "execution_count": null,
      "metadata": {
        "colab": {
          "base_uri": "https://localhost:8080/"
        },
        "id": "g5ghmB-aMD0q",
        "outputId": "d1540ebc-face-4f9c-e255-8974ab54c897"
      },
      "outputs": [
        {
          "name": "stdout",
          "output_type": "stream",
          "text": [
            "<map object at 0x7cc2a2610ca0>\n",
            "[2, 4, 6, 8, 10]\n"
          ]
        }
      ],
      "source": [
        "dobros = map(lambda x: x * 2, range(1,6))\n",
        "print(dobros) # funções como a map são preguiçosas, ou seja, só processam os\n",
        "              # seus valores quando estes são necessários\n",
        "print(list(dobros)) # forçamos o map a processar os valores, colocando-os numa lista"
      ]
    },
    {
      "cell_type": "markdown",
      "metadata": {
        "id": "2Dx-0H3mE5nI"
      },
      "source": [
        "### Filter"
      ]
    },
    {
      "cell_type": "code",
      "execution_count": null,
      "metadata": {
        "colab": {
          "base_uri": "https://localhost:8080/"
        },
        "id": "9XGZhgzOMSwy",
        "outputId": "82e72500-ab34-4055-fca5-e98b0bb33bc1"
      },
      "outputs": [
        {
          "name": "stdout",
          "output_type": "stream",
          "text": [
            "[2, 4, 6, 8, 10]\n"
          ]
        }
      ],
      "source": [
        "def isEven(n):\n",
        "  return n % 2 == 0\n",
        "\n",
        "evens = filter(isEven, range(1,11))\n",
        "print(list(evens))"
      ]
    },
    {
      "cell_type": "markdown",
      "metadata": {
        "id": "tBKVmGNFE65i"
      },
      "source": [
        "### Fold / reduce"
      ]
    },
    {
      "cell_type": "code",
      "execution_count": null,
      "metadata": {
        "colab": {
          "base_uri": "https://localhost:8080/"
        },
        "id": "fsd9KSWKMh6R",
        "outputId": "0516b34b-3426-462d-880a-51081dc70c18"
      },
      "outputs": [
        {
          "name": "stdout",
          "output_type": "stream",
          "text": [
            "O maior elemento é: 6\n"
          ]
        }
      ],
      "source": [
        "from functools import reduce\n",
        "\n",
        "lista = [3,5,4,6,1,2]\n",
        "maior = lista[0]\n",
        "print(\"O maior elemento é:\", reduce(lambda acc, x: x if x > acc else acc, lista, maior))\n",
        "# reduce(function, sequence[, initial]) é equivalente ao `foldl` de Haskell"
      ]
    },
    {
      "cell_type": "markdown",
      "metadata": {
        "id": "qnEbPLd2Nghs"
      },
      "source": [
        "## Input e Output de ficheiros"
      ]
    },
    {
      "cell_type": "markdown",
      "metadata": {
        "id": "2UR1RUBmN5gI"
      },
      "source": [
        "Modos de abertura de um ficheiro:\n",
        "* \"r\" - Read - Valor por omissão. Abre o ficheiro para leitura, devolve error se o ficheiro não existir;\n",
        "* \"a\" - Append - Abre o ficheiro para acrescentar, cria o ficheiro se este não existir;\n",
        "* \"w\" - Write - Abre o ficheiro para escrever, cria o ficheiro se este não existir, apaga o conteúdo se este existir;\n",
        "* \"x\" - Create - Cria o ficheiro, devolve error se o ficheiro já existir.\n",
        "\n",
        "Parâmetro adicional ao modo:\n",
        "* \"t\" - Text - Valor por omissão. Ficheiro textual;\n",
        "* \"b\" - Binary - Ficheiro binário, por exemplo, imagens."
      ]
    },
    {
      "cell_type": "code",
      "execution_count": null,
      "metadata": {
        "id": "pLJRPs3JN7lI"
      },
      "outputs": [],
      "source": [
        "f = open(\"input.txt\", \"rt\")\n",
        "content = f.read() # string\n",
        "\n",
        "f.close() # Não esquecer de fechar o ficheiro"
      ]
    },
    {
      "cell_type": "markdown",
      "metadata": {
        "id": "E0yd830HyZnu"
      },
      "source": [
        "### Ler linha a linha de um ficheiro"
      ]
    },
    {
      "cell_type": "code",
      "execution_count": null,
      "metadata": {
        "id": "m0HxgiGEygRv"
      },
      "outputs": [],
      "source": [
        "f = open(\"sample_data/anscombe.json\")\n",
        "# f.readlines()\n",
        "for linha in f.readlines():\n",
        "  print(linha)"
      ]
    },
    {
      "cell_type": "markdown",
      "metadata": {
        "id": "YVStKrIvzA8S"
      },
      "source": [
        "### Ler a primeira e a segunda linha de um ficheiro"
      ]
    },
    {
      "cell_type": "code",
      "execution_count": null,
      "metadata": {
        "id": "OP46l5fEzH7u"
      },
      "outputs": [],
      "source": [
        "f = open(\"input.txt\")\n",
        "linha1 = f.readline()\n",
        "linha2 = f.readline()"
      ]
    },
    {
      "cell_type": "markdown",
      "metadata": {
        "id": "pshJNCFMyzJH"
      },
      "source": [
        "### Ler o ficheiro de uma vez"
      ]
    },
    {
      "cell_type": "code",
      "execution_count": null,
      "metadata": {
        "id": "2jsInz96OPqo"
      },
      "outputs": [],
      "source": [
        "with open(\"input.txt\") as f:\n",
        "  content = f.read()\n",
        "\n",
        "print(\"Aqui, o ficheiro já vai estar fechado\")"
      ]
    },
    {
      "cell_type": "markdown",
      "metadata": {
        "id": "w0WFl0SMy5YC"
      },
      "source": [
        "### Escrever no ficheiro"
      ]
    },
    {
      "cell_type": "code",
      "execution_count": null,
      "metadata": {
        "id": "LtDXdL0SOjee"
      },
      "outputs": [],
      "source": [
        "with open(\"output.txt\", \"w\") as f:\n",
        "  f.write(\"O ficheiro só vai ter esta linha de texto.\")"
      ]
    },
    {
      "cell_type": "markdown",
      "metadata": {
        "id": "rMaFgNA_wS2a"
      },
      "source": [
        "### Ler do stdin\n",
        "Muitos dos programas nesta UC devem ler do stdin (canal de entrada do SO).\n"
      ]
    },
    {
      "cell_type": "code",
      "execution_count": null,
      "metadata": {
        "id": "BtQ4H_Bdwx0A"
      },
      "outputs": [],
      "source": [
        "import sys\n",
        "\n",
        "for linha in sys.stdin:\n",
        "  print(linha)"
      ]
    },
    {
      "cell_type": "markdown",
      "metadata": {
        "id": "ItXfVpIJGCE8"
      },
      "source": [
        "## F-strings\n",
        "\n",
        "A forma mais fácil de imprimir strings formatadas em Python é através de f-strings.\n",
        "\n",
        "Apenas colocamos um `f` antes das aspas iniciais e podemos inserir variáveis diretamente dentro de uma string com chavetas."
      ]
    },
    {
      "cell_type": "code",
      "execution_count": null,
      "metadata": {
        "colab": {
          "base_uri": "https://localhost:8080/"
        },
        "id": "ayS6h6L7GL5V",
        "outputId": "3261d8d6-f5b8-44e1-9356-25b71c90cfd7"
      },
      "outputs": [
        {
          "name": "stdout",
          "output_type": "stream",
          "text": [
            "A soma de 5 com 8 é 13.\n"
          ]
        }
      ],
      "source": [
        "num1 = 5\n",
        "num2 = 8\n",
        "\n",
        "print(f\"A soma de {num1} com {num2} é {num1 + num2}.\")"
      ]
    },
    {
      "cell_type": "markdown",
      "metadata": {
        "id": "LVEOVUWutXcP"
      },
      "source": [
        "# Classes\n",
        "\n",
        "Para definirmos classes em Python, usamos esta sintaxe:"
      ]
    },
    {
      "cell_type": "code",
      "execution_count": null,
      "metadata": {
        "colab": {
          "base_uri": "https://localhost:8080/"
        },
        "id": "XYlg9lR2tcjb",
        "outputId": "180fde51-5dbd-401e-eebe-972603aa81e5"
      },
      "outputs": [
        {
          "name": "stdout",
          "output_type": "stream",
          "text": [
            "(3, 4)\n",
            "3\n",
            "5.0\n"
          ]
        }
      ],
      "source": [
        "from math import sqrt\n",
        "\n",
        "class Ponto:\n",
        "  def __init__(self, x, y) -> None:\n",
        "    self.x = x\n",
        "    self.y = y\n",
        "\n",
        "  def __str__(self) -> str:\n",
        "    return f\"({self.x}, {self.y})\"\n",
        "\n",
        "  def dist(self) -> float:\n",
        "    return sqrt(self.x ** 2 + self.y ** 2)\n",
        "\n",
        "p = Ponto(3, 4)\n",
        "print(p)\n",
        "print(p.x)\n",
        "print(p.dist())"
      ]
    },
    {
      "cell_type": "markdown",
      "metadata": {
        "id": "1dmPyP3RuyKQ"
      },
      "source": [
        "O método `__init__()` é usado para inicializar um novo objeto.\n",
        "\n",
        "O método `__str__()` é usado para gerar uma string que representa um dado objeto.\n",
        "\n",
        "Métodos definidos com dois *underscores* no início e no fim são métodos especiais que são usados internamente pela classe e não devem ser chamados manualmente.\n",
        "\n",
        "Todos os atributos de uma classe em Python são públicos."
      ]
    },
    {
      "cell_type": "markdown",
      "metadata": {
        "id": "TPjp6tGWwYri"
      },
      "source": [
        "## Enumerações\n",
        "\n",
        "Em Python, enumerações são um tipo específico de classe, definidas da seguinte forma:"
      ]
    },
    {
      "cell_type": "code",
      "execution_count": null,
      "metadata": {
        "colab": {
          "base_uri": "https://localhost:8080/"
        },
        "id": "RMWfq3jNwfqu",
        "outputId": "5c818244-648b-4537-dffb-664300eb71fe"
      },
      "outputs": [
        {
          "name": "stdout",
          "output_type": "stream",
          "text": [
            "Color.RED\n",
            "False\n",
            "1\n",
            "---\n",
            "RED 1\n",
            "GREEN 2\n",
            "BLUE 3\n"
          ]
        }
      ],
      "source": [
        "from enum import Enum\n",
        "\n",
        "class Color(Enum):\n",
        "    RED = 1\n",
        "    GREEN = 2\n",
        "    BLUE = 3\n",
        "\n",
        "c = Color.RED\n",
        "print(c)\n",
        "print(c == Color.BLUE)\n",
        "print(c.value)\n",
        "\n",
        "print('---')\n",
        "\n",
        "for color in Color:\n",
        "  print(color.name)"
      ]
    }
  ],
  "metadata": {
    "colab": {
      "provenance": []
    },
    "kernelspec": {
      "display_name": "Python 3",
      "language": "python",
      "name": "python3"
    },
    "language_info": {
      "codemirror_mode": {
        "name": "ipython",
        "version": 3
      },
      "file_extension": ".py",
      "mimetype": "text/x-python",
      "name": "python",
      "nbconvert_exporter": "python",
      "pygments_lexer": "ipython3",
      "version": "3.13.1"
    },
    "orig_nbformat": 4
  },
  "nbformat": 4,
  "nbformat_minor": 0
}
